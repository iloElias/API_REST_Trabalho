{
  "cells": [
    {
      "cell_type": "markdown",
      "metadata": {
        "id": "view-in-github",
        "colab_type": "text"
      },
      "source": [
        "<a href=\"https://colab.research.google.com/github/iloElias/API_REST_Trabalho/blob/main/CopiaModeloRaioX.ipynb\" target=\"_parent\"><img src=\"https://colab.research.google.com/assets/colab-badge.svg\" alt=\"Open In Colab\"/></a>"
      ]
    },
    {
      "cell_type": "code",
      "execution_count": 9,
      "metadata": {
        "id": "0nGRtg0xJys8"
      },
      "outputs": [],
      "source": [
        "from string import Template\n",
        "import os\n",
        "import pandas as pd\n",
        "import numpy as np\n",
        "import keras\n",
        "import warnings\n",
        "warnings.filterwarnings(action=\"ignore\")\n",
        "import matplotlib.pyplot as plt\n",
        "%matplotlib inline\n",
        "\n",
        "from pydrive.auth import GoogleAuth\n",
        "from pydrive.drive import GoogleDrive\n",
        "from google.colab import auth\n",
        "from oauth2client.client import GoogleCredentials\n",
        "\n",
        "from keras import backend as K\n",
        "from sklearn.model_selection import train_test_split\n",
        "from sklearn.metrics import classification_report\n",
        "import tensorflow as tf\n",
        "from tensorflow import keras\n",
        "from tensorflow.keras.models import Sequential\n",
        "from tensorflow.keras.layers import Conv2D, MaxPooling2D, Flatten, Dense, Flatten, BatchNormalization, Dropout\n",
        "from tensorflow.keras.optimizers import Adam, Adamax\n",
        "from tensorflow.keras.losses import SparseCategoricalCrossentropy\n",
        "from tensorflow.keras.preprocessing.image import ImageDataGenerator\n",
        "from tensorflow.keras.callbacks import EarlyStopping\n",
        "from keras.utils import plot_model\n",
        "\n",
        "import sklearn.metrics as metrics\n",
        "from keras.callbacks import LearningRateScheduler\n",
        "annealer = LearningRateScheduler(lambda x: 1e-3 * 0.95 ** x, verbose=0)"
      ]
    },
    {
      "cell_type": "code",
      "source": [],
      "metadata": {
        "id": "0JNpnozJN6A4"
      },
      "execution_count": 9,
      "outputs": []
    },
    {
      "cell_type": "code",
      "execution_count": 10,
      "metadata": {
        "colab": {
          "base_uri": "https://localhost:8080/"
        },
        "id": "Vj1KBKU4KPh4",
        "outputId": "b3fb768d-9c8f-4e33-86a9-2a2e0c5ef834"
      },
      "outputs": [
        {
          "output_type": "stream",
          "name": "stdout",
          "text": [
            "You are using TensorFlow version 2.15.0\n",
            "You have a GPU enabled.\n"
          ]
        }
      ],
      "source": [
        "print(\"You are using TensorFlow version\", tf.__version__)\n",
        "if len(tf.config.list_physical_devices('GPU')) > 0:\n",
        "    print(\"You have a GPU enabled.\")\n",
        "else:\n",
        "    print(\"Enable a GPU before running this notebook.\")"
      ]
    },
    {
      "cell_type": "code",
      "execution_count": 11,
      "metadata": {
        "colab": {
          "base_uri": "https://localhost:8080/"
        },
        "id": "mx8VPiCoH6J6",
        "outputId": "fcb6d6af-3198-4304-fac3-044e0f68d960"
      },
      "outputs": [
        {
          "output_type": "stream",
          "name": "stdout",
          "text": [
            "Drive already mounted at /content/drive; to attempt to forcibly remount, call drive.mount(\"/content/drive\", force_remount=True).\n"
          ]
        }
      ],
      "source": [
        "from google.colab import drive\n",
        "drive.mount('/content/drive')"
      ]
    },
    {
      "cell_type": "code",
      "execution_count": 12,
      "metadata": {
        "id": "rZMJwKS-I5rn"
      },
      "outputs": [],
      "source": [
        "dataset_path_new = \"/content/drive/MyDrive/Dataset/\""
      ]
    },
    {
      "cell_type": "code",
      "execution_count": 13,
      "metadata": {
        "colab": {
          "base_uri": "https://localhost:8080/"
        },
        "id": "dKdAFbXIKR0D",
        "outputId": "e4525138-beea-4484-c175-5c8045822074"
      },
      "outputs": [
        {
          "output_type": "stream",
          "name": "stdout",
          "text": [
            "                                           filepaths  labels\n",
            "0  /content/drive/MyDrive/Dataset/test/NORMAL/IM-...  Normal\n",
            "1  /content/drive/MyDrive/Dataset/test/NORMAL/IM-...  Normal\n",
            "2  /content/drive/MyDrive/Dataset/test/NORMAL/IM-...  Normal\n",
            "3  /content/drive/MyDrive/Dataset/test/NORMAL/IM-...  Normal\n",
            "4  /content/drive/MyDrive/Dataset/test/NORMAL/IM-...  Normal\n",
            "labels\n",
            "Pneumonia Bacteriana    2784\n",
            "Normal                  1583\n",
            "Pneumonia Viral         1501\n",
            "Name: count, dtype: int64\n"
          ]
        }
      ],
      "source": [
        "# Diretórios no Google Drive\n",
        "healthy_dirs = [\n",
        "    os.path.join(dataset_path_new, 'test', 'NORMAL'),\n",
        "    os.path.join(dataset_path_new, 'train', 'NORMAL'),\n",
        "    os.path.join(dataset_path_new, 'val', 'NORMAL')\n",
        "]\n",
        "\n",
        "pneumonia_bacteria_dir = [\n",
        "    os.path.join(dataset_path_new, 'test', 'PNEUMONIA', 'BACTERIA'),\n",
        "    os.path.join(dataset_path_new, 'train', 'PNEUMONIA', 'BACTERIA'),\n",
        "    os.path.join(dataset_path_new, 'val', 'PNEUMONIA', 'BACTERIA')\n",
        "]\n",
        "\n",
        "pneumonia_virus_dir = [\n",
        "    os.path.join(dataset_path_new, 'test', 'PNEUMONIA', 'VIRUS'),\n",
        "    os.path.join(dataset_path_new, 'train', 'PNEUMONIA', 'VIRUS'),\n",
        "    os.path.join(dataset_path_new, 'val', 'PNEUMONIA', 'VIRUS')\n",
        "]\n",
        "\n",
        "filepaths = []\n",
        "labels = []\n",
        "dict_lists = [healthy_dirs, pneumonia_bacteria_dir, pneumonia_virus_dir]\n",
        "class_labels = ['Normal', 'Pneumonia Bacteriana', 'Pneumonia Viral']\n",
        "\n",
        "for i, dir_list in enumerate(dict_lists):\n",
        "    for directory in dir_list:\n",
        "        flist = os.listdir(directory)\n",
        "        for f in flist:\n",
        "            fpath = os.path.join(directory, f)\n",
        "            filepaths.append(fpath)\n",
        "            labels.append(class_labels[i])\n",
        "\n",
        "Fseries = pd.Series(filepaths, name=\"filepaths\")\n",
        "Lseries = pd.Series(labels, name=\"labels\")\n",
        "pneumonia_data = pd.concat([Fseries, Lseries], axis=1)\n",
        "pneumonia_df = pd.DataFrame(pneumonia_data)\n",
        "print(pneumonia_df.head())\n",
        "print(pneumonia_df[\"labels\"].value_counts())"
      ]
    },
    {
      "cell_type": "code",
      "execution_count": 14,
      "metadata": {
        "colab": {
          "base_uri": "https://localhost:8080/"
        },
        "id": "nKadpUlWEiAA",
        "outputId": "7232415b-dd15-4a03-8c5b-eeb9f1b8e7eb"
      },
      "outputs": [
        {
          "output_type": "stream",
          "name": "stdout",
          "text": [
            "labels\n",
            "Pneumonia Bacteriana    2784\n",
            "Normal                  1583\n",
            "Pneumonia Viral         1501\n",
            "Name: count, dtype: int64\n",
            "Número de imagens por classe após balanceamento:\n",
            "labels\n",
            "Normal                  1583\n",
            "Pneumonia Bacteriana    1501\n",
            "Pneumonia Viral         1501\n",
            "Name: count, dtype: int64\n"
          ]
        }
      ],
      "source": [
        "import os\n",
        "import random\n",
        "import pandas as pd\n",
        "\n",
        "# Caminho do diretório do dataset\n",
        "dataset_path_new = \"/content/drive/MyDrive/Dataset/\"\n",
        "\n",
        "# Diretórios no Google Drive\n",
        "healthy_dirs = [\n",
        "    os.path.join(dataset_path_new, 'test', 'NORMAL'),\n",
        "    os.path.join(dataset_path_new, 'train', 'NORMAL'),\n",
        "    os.path.join(dataset_path_new, 'val', 'NORMAL')\n",
        "]\n",
        "\n",
        "pneumonia_bacteria_dir = [\n",
        "    os.path.join(dataset_path_new, 'test', 'PNEUMONIA', 'BACTERIA'),\n",
        "    os.path.join(dataset_path_new, 'train', 'PNEUMONIA', 'BACTERIA'),\n",
        "    os.path.join(dataset_path_new, 'val', 'PNEUMONIA', 'BACTERIA')\n",
        "]\n",
        "\n",
        "pneumonia_virus_dir = [\n",
        "    os.path.join(dataset_path_new, 'test', 'PNEUMONIA', 'VIRUS'),\n",
        "    os.path.join(dataset_path_new, 'train', 'PNEUMONIA', 'VIRUS'),\n",
        "    os.path.join(dataset_path_new, 'val', 'PNEUMONIA', 'VIRUS')\n",
        "]\n",
        "\n",
        "# Listas de diretórios\n",
        "dict_lists = [healthy_dirs, pneumonia_bacteria_dir, pneumonia_virus_dir]\n",
        "\n",
        "# Rótulos das classes\n",
        "class_labels = ['Normal', 'Pneumonia Bacteriana', 'Pneumonia Viral']\n",
        "\n",
        "filepaths = []\n",
        "labels = []\n",
        "\n",
        "# Percorrendo os diretórios e criando listas de caminhos de arquivo e rótulos\n",
        "for i, dir_list in enumerate(dict_lists):\n",
        "    for directory in dir_list:\n",
        "        flist = os.listdir(directory)\n",
        "        for f in flist:\n",
        "            fpath = os.path.join(directory, f)\n",
        "            filepaths.append(fpath)\n",
        "            labels.append(class_labels[i])\n",
        "\n",
        "# Criando um DataFrame do Pandas com os caminhos dos arquivos e os rótulos\n",
        "Fseries = pd.Series(filepaths, name=\"filepaths\")\n",
        "Lseries = pd.Series(labels, name=\"labels\")\n",
        "pneumonia_data = pd.concat([Fseries, Lseries], axis=1)\n",
        "pneumonia_df = pd.DataFrame(pneumonia_data)\n",
        "\n",
        "# Contagem dos rótulos\n",
        "print(pneumonia_df[\"labels\"].value_counts())\n",
        "\n",
        "# Determinando quantas imagens devem ser removidas\n",
        "num_images_to_remove = len(pneumonia_df[pneumonia_df[\"labels\"] == \"Pneumonia Bacteriana\"]) - len(pneumonia_df[pneumonia_df[\"labels\"] == \"Pneumonia Viral\"])\n",
        "\n",
        "# Removendo imagens aleatoriamente da categoria de Pneumonia Bacteriana\n",
        "if num_images_to_remove > 0:\n",
        "    pneumonia_bacteria_indices = pneumonia_df[pneumonia_df[\"labels\"] == \"Pneumonia Bacteriana\"].index\n",
        "    images_to_remove_indices = random.sample(list(pneumonia_bacteria_indices), num_images_to_remove)\n",
        "    pneumonia_df = pneumonia_df.drop(images_to_remove_indices)\n",
        "\n",
        "# Salvando o novo DataFrame\n",
        "pneumonia_df.to_csv('/content/drive/MyDrive/Dataset/pneumonia_dataset_balanced.csv', index=False)\n",
        "print(\"Número de imagens por classe após balanceamento:\")\n",
        "print(pneumonia_df[\"labels\"].value_counts())\n"
      ]
    },
    {
      "cell_type": "code",
      "execution_count": 15,
      "metadata": {
        "colab": {
          "base_uri": "https://localhost:8080/"
        },
        "id": "3YddMak86sMS",
        "outputId": "4a659b27-606e-4ae0-f63c-7c61e7e53eb3"
      },
      "outputs": [
        {
          "output_type": "stream",
          "name": "stdout",
          "text": [
            "                                           filepaths  labels\n",
            "0  /content/drive/MyDrive/Dataset/test/NORMAL/IM-...  Normal\n",
            "1  /content/drive/MyDrive/Dataset/test/NORMAL/IM-...  Normal\n",
            "2  /content/drive/MyDrive/Dataset/test/NORMAL/IM-...  Normal\n",
            "3  /content/drive/MyDrive/Dataset/test/NORMAL/IM-...  Normal\n",
            "4  /content/drive/MyDrive/Dataset/test/NORMAL/IM-...  Normal\n",
            "labels\n",
            "Normal                  1583\n",
            "Pneumonia Bacteriana    1501\n",
            "Pneumonia Viral         1501\n",
            "Name: count, dtype: int64\n"
          ]
        }
      ],
      "source": [
        "print(pneumonia_df.head())\n",
        "print(pneumonia_df[\"labels\"].value_counts())"
      ]
    },
    {
      "cell_type": "code",
      "execution_count": 16,
      "metadata": {
        "colab": {
          "base_uri": "https://localhost:8080/"
        },
        "id": "0IeETR2wKVbI",
        "outputId": "65511b10-3663-463c-a7f3-5e346bc4985d"
      },
      "outputs": [
        {
          "output_type": "execute_result",
          "data": {
            "text/plain": [
              "(4585, 2)"
            ]
          },
          "metadata": {},
          "execution_count": 16
        }
      ],
      "source": [
        "pneumonia_df.shape"
      ]
    },
    {
      "cell_type": "code",
      "execution_count": 17,
      "metadata": {
        "id": "lYba9RzTM7ua"
      },
      "outputs": [],
      "source": [
        "train_images, test_images = train_test_split(\n",
        "    pneumonia_df, test_size=0.3, random_state=42)\n",
        "train_set, val_set = train_test_split(\n",
        "    pneumonia_df, test_size=0.2, random_state=42)"
      ]
    },
    {
      "cell_type": "code",
      "execution_count": 18,
      "metadata": {
        "id": "AJicwncQAyJ3"
      },
      "outputs": [],
      "source": [
        "train_dir = os.path.join(dataset_path_new, \"train\")\n",
        "validation_dir = os.path.join(dataset_path_new, \"validation\")"
      ]
    },
    {
      "cell_type": "code",
      "execution_count": 19,
      "metadata": {
        "colab": {
          "base_uri": "https://localhost:8080/"
        },
        "id": "EXSvEjx2KcRi",
        "outputId": "5d043e41-fa1e-47b3-80e7-6cda83e93c1a"
      },
      "outputs": [
        {
          "output_type": "stream",
          "name": "stdout",
          "text": [
            "Found 3668 validated image filenames belonging to 3 classes.\n",
            "Found 1376 validated image filenames belonging to 3 classes.\n",
            "Found 917 validated image filenames belonging to 3 classes.\n"
          ]
        }
      ],
      "source": [
        "image_gen = ImageDataGenerator(\n",
        "    preprocessing_function=tf.keras.applications.mobilenet_v2.preprocess_input)\n",
        "train = image_gen.flow_from_dataframe(dataframe=train_set, x_col=\"filepaths\", y_col=\"labels\",\n",
        "                                      target_size=(224, 224),\n",
        "                                      color_mode='rgb',\n",
        "                                      class_mode=\"categorical\",  # used for Sequential Model\n",
        "                                      batch_size=4,\n",
        "                                      shuffle=False  # do not shuffle data\n",
        "                                      )\n",
        "test = image_gen.flow_from_dataframe(dataframe=test_images, x_col=\"filepaths\", y_col=\"labels\",\n",
        "                                     target_size=(224, 224),\n",
        "                                     color_mode='rgb',\n",
        "                                     class_mode=\"categorical\",\n",
        "                                     batch_size=4,\n",
        "                                     shuffle=False\n",
        "                                     )\n",
        "val = image_gen.flow_from_dataframe(dataframe=val_set, x_col=\"filepaths\", y_col=\"labels\",\n",
        "                                    target_size=(224, 224),\n",
        "                                    color_mode='rgb',\n",
        "                                    class_mode=\"categorical\",\n",
        "                                    batch_size=4,\n",
        "                                    shuffle=False\n",
        "                                    )"
      ]
    },
    {
      "cell_type": "code",
      "execution_count": 20,
      "metadata": {
        "colab": {
          "base_uri": "https://localhost:8080/"
        },
        "id": "WB9pDwKEKgmk",
        "outputId": "f90cc3e1-91c8-4fd1-d144-73538c806655"
      },
      "outputs": [
        {
          "output_type": "stream",
          "name": "stdout",
          "text": [
            "['Normal', 'Pneumonia Bacteriana', 'Pneumonia Viral']\n"
          ]
        }
      ],
      "source": [
        "classes = list(train.class_indices.keys())\n",
        "print(classes)"
      ]
    },
    {
      "cell_type": "code",
      "execution_count": 21,
      "metadata": {
        "id": "zDmzByxJKhO2"
      },
      "outputs": [],
      "source": [
        "def show_knee_images(image_gen):\n",
        "    test_dict = test.class_indices\n",
        "    classes = list(test_dict.keys())\n",
        "    images, labels = next(image_gen)  # get a sample batch from the generator\n",
        "    plt.figure(figsize=(20, 20))\n",
        "    length = len(labels)\n",
        "    if length < 25:\n",
        "        r = length\n",
        "    else:\n",
        "        r = 25\n",
        "    for i in range(r):\n",
        "        plt.subplot(5, 5, i+1)\n",
        "        image = (images[i]+1)/2  # scale images between 0 and 1\n",
        "        plt.imshow(image)\n",
        "        index = np.argmax(labels[i])\n",
        "        class_name = classes[index]\n",
        "        plt.title(class_name, color=\"green\", fontsize=16)\n",
        "        plt.axis('off')\n",
        "    plt.show()\n",
        "    show_knee_images(train)"
      ]
    },
    {
      "cell_type": "code",
      "execution_count": 22,
      "metadata": {
        "id": "CIzldZ2YDAuQ"
      },
      "outputs": [],
      "source": [
        "img_shape = (224, 224, 3)"
      ]
    },
    {
      "cell_type": "code",
      "execution_count": 23,
      "metadata": {
        "id": "xpfUy5RnyBbP"
      },
      "outputs": [],
      "source": [
        "# from tensorflow.keras.models import Sequential\n",
        "# from tensorflow.keras.layers import Dense, Dropout, Flatten\n",
        "# from tensorflow.keras.applications import DenseNet121\n",
        "\n",
        "# # Defina o shape da imagem\n",
        "# img_shape = (224, 224, 3)  # Por exemplo, 224x224 pixels com 3 canais de cor\n",
        "\n",
        "# # Carregue o modelo DenseNet121 com pesos pré-treinados na ImageNet\n",
        "# base_model = DenseNet121(weights='imagenet', include_top=False, input_shape=img_shape)\n",
        "# base_model.trainable = False\n",
        "\n",
        "# # Crie um modelo sequencial\n",
        "# model = Sequential()\n",
        "\n",
        "# # Adicione o modelo DenseNet121 como uma camada ao modelo sequencial\n",
        "# model.add(base_model)\n",
        "\n",
        "# # Adicione uma camada de achatamento (flatten) para converter os mapas de características em um vetor unidimensional\n",
        "# model.add(Flatten())\n",
        "\n",
        "# # Adicione uma camada densa com 256 unidades e função de ativação ReLU\n",
        "# model.add(Dense(256, activation='relu'))\n",
        "\n",
        "# # Adicione uma camada de dropout para regularização\n",
        "# model.add(Dropout(0.5))\n",
        "\n",
        "# # Adicione a camada de saída com ativação softmax para classificação multiclasse\n",
        "# model.add(Dense(len(classes), activation='softmax'))\n",
        "\n",
        "# # Compile o modelo com otimizador Adam e função de perda de entropia cruzada categórica\n",
        "# model.compile(optimizer='adam', loss='categorical_crossentropy', metrics=['accuracy'])\n",
        "\n",
        "# # Imprima o resumo do modelo para verificar a arquitetura e os parâmetros\n",
        "# model.summary()\n"
      ]
    },
    {
      "cell_type": "code",
      "execution_count": 24,
      "metadata": {
        "id": "qLK7u9NiNux2"
      },
      "outputs": [],
      "source": [
        "# from tensorflow.keras.applications import DenseNet121\n",
        "\n",
        "# base_model = DenseNet121(weights='imagenet', include_top=False, input_shape=img_shape)\n",
        "# base_model.trainable = False\n",
        "\n",
        "# model = Sequential([\n",
        "#     base_model,\n",
        "#     Flatten(),\n",
        "#     Dense(256, activation='relu'),\n",
        "#     Dropout(0.5),\n",
        "#     Dense(len(classes), activation='softmax')\n",
        "# ])\n",
        "# model.compile(optimizer='adam', loss='categorical_crossentropy', metrics=['accuracy'])\n"
      ]
    },
    {
      "cell_type": "code",
      "source": [
        "from tensorflow.keras.applications import ResNet50V2\n",
        "from tensorflow.keras.models import Sequential\n",
        "from tensorflow.keras.layers import GlobalAveragePooling2D, Dense, Dropout, BatchNormalization\n",
        "\n",
        "# Definir número de classes\n",
        "num_classes = 3\n",
        "\n",
        "# Carregar a base ResNet50V2 pré-treinada\n",
        "base_model = ResNet50V2(weights='imagenet', include_top=False, input_shape=img_shape)\n",
        "\n",
        "# Congelar os pesos da base\n",
        "base_model.trainable = False\n",
        "\n",
        "# Construir o modelo\n",
        "model = Sequential([\n",
        "    base_model,\n",
        "    GlobalAveragePooling2D(),\n",
        "    Dense(256, activation='relu'),\n",
        "    BatchNormalization(),\n",
        "    Dropout(0.5),\n",
        "    Dense(num_classes, activation='softmax')\n",
        "])\n",
        "\n",
        "# Compilar o modelo\n",
        "model.compile(optimizer='adam', loss='categorical_crossentropy', metrics=['accuracy'])"
      ],
      "metadata": {
        "colab": {
          "base_uri": "https://localhost:8080/"
        },
        "id": "HW2DO4lAK7Tm",
        "outputId": "70770bf0-7816-4b5f-e807-9c7ea98e81c5"
      },
      "execution_count": 25,
      "outputs": [
        {
          "output_type": "stream",
          "name": "stdout",
          "text": [
            "Downloading data from https://storage.googleapis.com/tensorflow/keras-applications/resnet/resnet50v2_weights_tf_dim_ordering_tf_kernels_notop.h5\n",
            "94668760/94668760 [==============================] - 0s 0us/step\n"
          ]
        }
      ]
    },
    {
      "cell_type": "code",
      "execution_count": 26,
      "metadata": {
        "id": "Tu1s5o7mHgfJ"
      },
      "outputs": [],
      "source": [
        "# from tensorflow.keras.applications import VGG16\n",
        "\n",
        "# base_model = VGG16(weights='imagenet', include_top=False, input_shape=img_shape)\n",
        "# base_model.trainable = False\n",
        "\n",
        "# model = Sequential([\n",
        "#     base_model,\n",
        "#     Flatten(),\n",
        "#     Dense(256, activation='relu'),\n",
        "#     Dropout(0.5),\n",
        "#     Dense(len(classes), activation='softmax')\n",
        "# ])\n",
        "# model.compile(optimizer='adam', loss='categorical_crossentropy', metrics=['accuracy'])\n"
      ]
    },
    {
      "cell_type": "code",
      "execution_count": 27,
      "metadata": {
        "colab": {
          "base_uri": "https://localhost:8080/"
        },
        "id": "qqtP43NBG2Qe",
        "outputId": "a227d075-c8fe-4e2c-d70b-5403fbaaff7d"
      },
      "outputs": [
        {
          "output_type": "stream",
          "name": "stdout",
          "text": [
            "Epoch 1/20\n",
            "917/917 [==============================] - 1734s 2s/step - loss: 0.8333 - accuracy: 0.6628 - val_loss: 0.5566 - val_accuracy: 0.7644\n",
            "Epoch 2/20\n",
            "917/917 [==============================] - 76s 83ms/step - loss: 0.6374 - accuracy: 0.7323 - val_loss: 0.5602 - val_accuracy: 0.7797\n",
            "Epoch 3/20\n",
            "917/917 [==============================] - 74s 81ms/step - loss: 0.6102 - accuracy: 0.7440 - val_loss: 0.5463 - val_accuracy: 0.7841\n",
            "Epoch 4/20\n",
            "917/917 [==============================] - 72s 78ms/step - loss: 0.5866 - accuracy: 0.7568 - val_loss: 0.4941 - val_accuracy: 0.8070\n",
            "Epoch 5/20\n",
            "917/917 [==============================] - 73s 79ms/step - loss: 0.5495 - accuracy: 0.7786 - val_loss: 0.5114 - val_accuracy: 0.7950\n",
            "Epoch 6/20\n",
            "917/917 [==============================] - 77s 84ms/step - loss: 0.5400 - accuracy: 0.7770 - val_loss: 0.5265 - val_accuracy: 0.7972\n",
            "Epoch 7/20\n",
            "917/917 [==============================] - 72s 79ms/step - loss: 0.5183 - accuracy: 0.7846 - val_loss: 0.5545 - val_accuracy: 0.7841\n",
            "Epoch 8/20\n",
            "917/917 [==============================] - 75s 82ms/step - loss: 0.5102 - accuracy: 0.7993 - val_loss: 0.5336 - val_accuracy: 0.7961\n",
            "Epoch 9/20\n",
            "917/917 [==============================] - 83s 91ms/step - loss: 0.4905 - accuracy: 0.8013 - val_loss: 0.5535 - val_accuracy: 0.7961\n",
            "Epoch 10/20\n",
            "917/917 [==============================] - 77s 84ms/step - loss: 0.4709 - accuracy: 0.8182 - val_loss: 0.5729 - val_accuracy: 0.7874\n",
            "Epoch 11/20\n",
            "917/917 [==============================] - 76s 83ms/step - loss: 0.4546 - accuracy: 0.8190 - val_loss: 0.5457 - val_accuracy: 0.7884\n",
            "Epoch 12/20\n",
            "917/917 [==============================] - 75s 82ms/step - loss: 0.4395 - accuracy: 0.8190 - val_loss: 0.5920 - val_accuracy: 0.7906\n",
            "Epoch 13/20\n",
            "917/917 [==============================] - 78s 85ms/step - loss: 0.4274 - accuracy: 0.8375 - val_loss: 0.5700 - val_accuracy: 0.7928\n",
            "Epoch 14/20\n",
            "917/917 [==============================] - 79s 87ms/step - loss: 0.4111 - accuracy: 0.8400 - val_loss: 0.5895 - val_accuracy: 0.7895\n",
            "Epoch 15/20\n",
            "917/917 [==============================] - 78s 85ms/step - loss: 0.4022 - accuracy: 0.8421 - val_loss: 0.6052 - val_accuracy: 0.7939\n",
            "Epoch 16/20\n",
            "917/917 [==============================] - 82s 89ms/step - loss: 0.3928 - accuracy: 0.8476 - val_loss: 0.6976 - val_accuracy: 0.7612\n",
            "Epoch 17/20\n",
            "917/917 [==============================] - 75s 82ms/step - loss: 0.3883 - accuracy: 0.8531 - val_loss: 0.6242 - val_accuracy: 0.7950\n",
            "Epoch 18/20\n",
            "917/917 [==============================] - 75s 82ms/step - loss: 0.3727 - accuracy: 0.8522 - val_loss: 0.6304 - val_accuracy: 0.8004\n",
            "Epoch 19/20\n",
            "917/917 [==============================] - 73s 80ms/step - loss: 0.3590 - accuracy: 0.8645 - val_loss: 0.6489 - val_accuracy: 0.8015\n",
            "Epoch 20/20\n",
            "917/917 [==============================] - 77s 84ms/step - loss: 0.3511 - accuracy: 0.8642 - val_loss: 0.6396 - val_accuracy: 0.7950\n"
          ]
        }
      ],
      "source": [
        "import tensorflow as tf\n",
        "\n",
        "# Definir e compilar o modelo\n",
        "# Certifique-se de ter definido seu modelo antes desta parte do código\n",
        "# Fitting do modelo\n",
        "history = model.fit_generator(train,\n",
        "                              epochs=20,\n",
        "                              validation_data=val,\n",
        "                              )\n"
      ]
    },
    {
      "cell_type": "code",
      "execution_count": 28,
      "metadata": {
        "id": "KNx_D5-GG4p6",
        "colab": {
          "base_uri": "https://localhost:8080/"
        },
        "outputId": "6f0c0eb1-5a6f-4b85-db2a-b7bc6129c0ed"
      },
      "outputs": [
        {
          "output_type": "stream",
          "name": "stdout",
          "text": [
            "344/344 [==============================] - 23s 65ms/step - loss: 0.5125 - accuracy: 0.8292\n"
          ]
        },
        {
          "output_type": "execute_result",
          "data": {
            "text/plain": [
              "[0.5125290155410767, 0.8292151093482971]"
            ]
          },
          "metadata": {},
          "execution_count": 28
        }
      ],
      "source": [
        "model.evaluate(test, verbose=1)"
      ]
    },
    {
      "cell_type": "code",
      "execution_count": 29,
      "metadata": {
        "id": "ErVIWVHbG5YF",
        "colab": {
          "base_uri": "https://localhost:8080/"
        },
        "outputId": "5b7710ff-f572-4666-c7a9-09f2819bd287"
      },
      "outputs": [
        {
          "output_type": "stream",
          "name": "stdout",
          "text": [
            "Saved model to disk\n",
            "Loaded model from disk\n"
          ]
        }
      ],
      "source": [
        "from tensorflow.keras.models import model_from_json\n",
        "\n",
        "model_json = model.to_json()\n",
        "with open(\"model.json\", \"w\") as json_file:\n",
        "    json_file.write(model_json)\n",
        "\n",
        "# serialize weights to HDF5\n",
        "model.save_weights(\"model.h5\")\n",
        "print(\"Saved model to disk\")\n",
        "\n",
        "# Depois...\n",
        "## load json and create model\n",
        "with open('model.json', 'r') as json_file:\n",
        "    loaded_model_json = json_file.read()\n",
        "\n",
        "loaded_model = model_from_json(loaded_model_json)\n",
        "# load weights into new model\n",
        "loaded_model.load_weights(\"model.h5\")\n",
        "print(\"Loaded model from disk\")\n"
      ]
    },
    {
      "cell_type": "code",
      "execution_count": 30,
      "metadata": {
        "id": "oEUObQSTHCof",
        "colab": {
          "base_uri": "https://localhost:8080/",
          "height": 472
        },
        "outputId": "bbc400ed-aec0-4b65-af84-78508859a705"
      },
      "outputs": [
        {
          "output_type": "display_data",
          "data": {
            "text/plain": [
              "<Figure size 640x480 with 1 Axes>"
            ],
            "image/png": "[encoded data removed]"
          },
          "metadata": {}
        }
      ],
      "source": [
        "plt.plot(history.history['loss'])\n",
        "plt.plot(history.history['val_loss'])\n",
        "plt.title('model loss')\n",
        "plt.ylabel('loss')\n",
        "plt.xlabel('epoch')\n",
        "plt.legend(['train', 'val'], loc='upper left')\n",
        "plt.show()"
      ]
    },
    {
      "cell_type": "code",
      "source": [
        "import numpy as np\n",
        "import matplotlib.pyplot as plt\n",
        "from sklearn.metrics import confusion_matrix, classification_report\n",
        "\n",
        "# Treinar o modelo (substitua X_train e y_train pelos seus dados de treinamento)\n",
        "model.fit(X_train, y_train, epochs=10, batch_size=32, validation_data=(X_val, y_val))\n",
        "\n",
        "# Avaliar o modelo\n",
        "loss, accuracy = model.evaluate(X_test, y_test)\n",
        "print(\"Test Accuracy:\", accuracy)\n",
        "\n",
        "# Prever classes para os dados de teste\n",
        "y_pred = model.predict(X_test)\n",
        "y_pred_classes = np.argmax(y_pred, axis=1)\n",
        "y_true = np.argmax(y_test, axis=1)\n",
        "\n",
        "# Calcular a matriz de confusão\n",
        "conf_matrix = confusion_matrix(y_true, y_pred_classes)\n",
        "\n",
        "# Exibir a matriz de confusão\n",
        "plt.imshow(conf_matrix, cmap=plt.cm.Blues)\n",
        "plt.title('Matriz de Confusão')\n",
        "plt.colorbar()\n",
        "plt.xlabel('Predito')\n",
        "plt.ylabel('Verdadeiro')\n",
        "plt.show()\n",
        "\n",
        "# Exibir relatório de classificação\n",
        "print(classification_report(y_true, y_pred_classes))"
      ],
      "metadata": {
        "colab": {
          "base_uri": "https://localhost:8080/",
          "height": 211
        },
        "id": "sdOd6nrnbjdR",
        "outputId": "4c979d2b-e6d1-45fd-e5be-3accfeab7b49"
      },
      "execution_count": 32,
      "outputs": [
        {
          "output_type": "error",
          "ename": "NameError",
          "evalue": "name 'X_train' is not defined",
          "traceback": [
            "\u001b[0;31m---------------------------------------------------------------------------\u001b[0m",
            "\u001b[0;31mNameError\u001b[0m                                 Traceback (most recent call last)",
            "\u001b[0;32m<ipython-input-32-60d219e5927e>\u001b[0m in \u001b[0;36m<cell line: 6>\u001b[0;34m()\u001b[0m\n\u001b[1;32m      4\u001b[0m \u001b[0;34m\u001b[0m\u001b[0m\n\u001b[1;32m      5\u001b[0m \u001b[0;31m# Treinar o modelo (substitua X_train e y_train pelos seus dados de treinamento)\u001b[0m\u001b[0;34m\u001b[0m\u001b[0;34m\u001b[0m\u001b[0m\n\u001b[0;32m----> 6\u001b[0;31m \u001b[0mmodel\u001b[0m\u001b[0;34m.\u001b[0m\u001b[0mfit\u001b[0m\u001b[0;34m(\u001b[0m\u001b[0mX_train\u001b[0m\u001b[0;34m,\u001b[0m \u001b[0my_train\u001b[0m\u001b[0;34m,\u001b[0m \u001b[0mepochs\u001b[0m\u001b[0;34m=\u001b[0m\u001b[0;36m10\u001b[0m\u001b[0;34m,\u001b[0m \u001b[0mbatch_size\u001b[0m\u001b[0;34m=\u001b[0m\u001b[0;36m32\u001b[0m\u001b[0;34m,\u001b[0m \u001b[0mvalidation_data\u001b[0m\u001b[0;34m=\u001b[0m\u001b[0;34m(\u001b[0m\u001b[0mX_val\u001b[0m\u001b[0;34m,\u001b[0m \u001b[0my_val\u001b[0m\u001b[0;34m)\u001b[0m\u001b[0;34m)\u001b[0m\u001b[0;34m\u001b[0m\u001b[0;34m\u001b[0m\u001b[0m\n\u001b[0m\u001b[1;32m      7\u001b[0m \u001b[0;34m\u001b[0m\u001b[0m\n\u001b[1;32m      8\u001b[0m \u001b[0;31m# Avaliar o modelo\u001b[0m\u001b[0;34m\u001b[0m\u001b[0;34m\u001b[0m\u001b[0m\n",
            "\u001b[0;31mNameError\u001b[0m: name 'X_train' is not defined"
          ]
        }
      ]
    },
    {
      "cell_type": "code",
      "source": [],
      "metadata": {
        "id": "95fIDgFWcAZ7"
      },
      "execution_count": null,
      "outputs": []
    }
  ],
  "metadata": {
    "accelerator": "GPU",
    "colab": {
      "gpuType": "T4",
      "provenance": [],
      "include_colab_link": true
    },
    "kernelspec": {
      "display_name": "Python 3",
      "name": "python3"
    },
    "language_info": {
      "name": "python"
    }
  },
  "nbformat": 4,
  "nbformat_minor": 0
}